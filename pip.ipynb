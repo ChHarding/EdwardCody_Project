{
 "cells": [
  {
   "cell_type": "code",
   "execution_count": 1,
   "metadata": {},
   "outputs": [
    {
     "name": "stdout",
     "output_type": "stream",
     "text": [
      "Requirement already satisfied: flask_cors in c:\\users\\owner\\appdata\\local\\packages\\pythonsoftwarefoundation.python.3.11_qbz5n2kfra8p0\\localcache\\local-packages\\python311\\site-packages (5.0.0)\n",
      "Requirement already satisfied: Flask>=0.9 in c:\\users\\owner\\appdata\\local\\packages\\pythonsoftwarefoundation.python.3.11_qbz5n2kfra8p0\\localcache\\local-packages\\python311\\site-packages (from flask_cors) (3.1.0)\n",
      "Requirement already satisfied: Werkzeug>=3.1 in c:\\users\\owner\\appdata\\local\\packages\\pythonsoftwarefoundation.python.3.11_qbz5n2kfra8p0\\localcache\\local-packages\\python311\\site-packages (from Flask>=0.9->flask_cors) (3.1.3)\n",
      "Requirement already satisfied: Jinja2>=3.1.2 in c:\\users\\owner\\appdata\\local\\packages\\pythonsoftwarefoundation.python.3.11_qbz5n2kfra8p0\\localcache\\local-packages\\python311\\site-packages (from Flask>=0.9->flask_cors) (3.1.4)\n",
      "Requirement already satisfied: itsdangerous>=2.2 in c:\\users\\owner\\appdata\\local\\packages\\pythonsoftwarefoundation.python.3.11_qbz5n2kfra8p0\\localcache\\local-packages\\python311\\site-packages (from Flask>=0.9->flask_cors) (2.2.0)\n",
      "Requirement already satisfied: click>=8.1.3 in c:\\users\\owner\\appdata\\local\\packages\\pythonsoftwarefoundation.python.3.11_qbz5n2kfra8p0\\localcache\\local-packages\\python311\\site-packages (from Flask>=0.9->flask_cors) (8.1.7)\n",
      "Requirement already satisfied: blinker>=1.9 in c:\\users\\owner\\appdata\\local\\packages\\pythonsoftwarefoundation.python.3.11_qbz5n2kfra8p0\\localcache\\local-packages\\python311\\site-packages (from Flask>=0.9->flask_cors) (1.9.0)\n",
      "Requirement already satisfied: colorama in c:\\users\\owner\\appdata\\local\\packages\\pythonsoftwarefoundation.python.3.11_qbz5n2kfra8p0\\localcache\\local-packages\\python311\\site-packages (from click>=8.1.3->Flask>=0.9->flask_cors) (0.4.6)\n",
      "Requirement already satisfied: MarkupSafe>=2.0 in c:\\users\\owner\\appdata\\local\\packages\\pythonsoftwarefoundation.python.3.11_qbz5n2kfra8p0\\localcache\\local-packages\\python311\\site-packages (from Jinja2>=3.1.2->Flask>=0.9->flask_cors) (3.0.2)\n",
      "Note: you may need to restart the kernel to use updated packages.\n"
     ]
    },
    {
     "name": "stderr",
     "output_type": "stream",
     "text": [
      "\n",
      "[notice] A new release of pip is available: 24.0 -> 24.3.1\n",
      "[notice] To update, run: C:\\Users\\Owner\\AppData\\Local\\Microsoft\\WindowsApps\\PythonSoftwareFoundation.Python.3.11_qbz5n2kfra8p0\\python.exe -m pip install --upgrade pip\n"
     ]
    }
   ],
   "source": [
    "%pip install flask_cors"
   ]
  },
  {
   "cell_type": "markdown",
   "metadata": {},
   "source": [
    "https://pyautogui.readthedocs.io/en/latest/quickstart.html\n",
    "https://pygetwindow.readthedocs.io/en/latest/#"
   ]
  },
  {
   "cell_type": "code",
   "execution_count": 2,
   "metadata": {},
   "outputs": [
    {
     "name": "stdout",
     "output_type": "stream",
     "text": [
      "Requirement already satisfied: pyautogui in c:\\users\\owner\\appdata\\local\\packages\\pythonsoftwarefoundation.python.3.11_qbz5n2kfra8p0\\localcache\\local-packages\\python311\\site-packages (0.9.54)\n",
      "Requirement already satisfied: pywin32 in c:\\users\\owner\\appdata\\local\\packages\\pythonsoftwarefoundation.python.3.11_qbz5n2kfra8p0\\localcache\\local-packages\\python311\\site-packages (308)\n",
      "Requirement already satisfied: pygetwindow in c:\\users\\owner\\appdata\\local\\packages\\pythonsoftwarefoundation.python.3.11_qbz5n2kfra8p0\\localcache\\local-packages\\python311\\site-packages (0.0.9)\n",
      "Requirement already satisfied: pynput in c:\\users\\owner\\appdata\\local\\packages\\pythonsoftwarefoundation.python.3.11_qbz5n2kfra8p0\\localcache\\local-packages\\python311\\site-packages (1.7.7)\n",
      "Requirement already satisfied: pymsgbox in c:\\users\\owner\\appdata\\local\\packages\\pythonsoftwarefoundation.python.3.11_qbz5n2kfra8p0\\localcache\\local-packages\\python311\\site-packages (from pyautogui) (1.0.9)\n",
      "Requirement already satisfied: pytweening>=1.0.4 in c:\\users\\owner\\appdata\\local\\packages\\pythonsoftwarefoundation.python.3.11_qbz5n2kfra8p0\\localcache\\local-packages\\python311\\site-packages (from pyautogui) (1.2.0)\n",
      "Requirement already satisfied: pyscreeze>=0.1.21 in c:\\users\\owner\\appdata\\local\\packages\\pythonsoftwarefoundation.python.3.11_qbz5n2kfra8p0\\localcache\\local-packages\\python311\\site-packages (from pyautogui) (1.0.1)\n",
      "Requirement already satisfied: mouseinfo in c:\\users\\owner\\appdata\\local\\packages\\pythonsoftwarefoundation.python.3.11_qbz5n2kfra8p0\\localcache\\local-packages\\python311\\site-packages (from pyautogui) (0.1.3)\n",
      "Requirement already satisfied: pyrect in c:\\users\\owner\\appdata\\local\\packages\\pythonsoftwarefoundation.python.3.11_qbz5n2kfra8p0\\localcache\\local-packages\\python311\\site-packages (from pygetwindow) (0.2.0)\n",
      "Requirement already satisfied: six in c:\\users\\owner\\appdata\\local\\packages\\pythonsoftwarefoundation.python.3.11_qbz5n2kfra8p0\\localcache\\local-packages\\python311\\site-packages (from pynput) (1.16.0)\n",
      "Requirement already satisfied: Pillow>=9.3.0 in c:\\users\\owner\\appdata\\local\\packages\\pythonsoftwarefoundation.python.3.11_qbz5n2kfra8p0\\localcache\\local-packages\\python311\\site-packages (from pyscreeze>=0.1.21->pyautogui) (11.0.0)\n",
      "Requirement already satisfied: pyperclip in c:\\users\\owner\\appdata\\local\\packages\\pythonsoftwarefoundation.python.3.11_qbz5n2kfra8p0\\localcache\\local-packages\\python311\\site-packages (from mouseinfo->pyautogui) (1.9.0)\n",
      "Note: you may need to restart the kernel to use updated packages.\n"
     ]
    },
    {
     "name": "stderr",
     "output_type": "stream",
     "text": [
      "\n",
      "[notice] A new release of pip is available: 24.0 -> 24.3.1\n",
      "[notice] To update, run: C:\\Users\\Owner\\AppData\\Local\\Microsoft\\WindowsApps\\PythonSoftwareFoundation.Python.3.11_qbz5n2kfra8p0\\python.exe -m pip install --upgrade pip\n"
     ]
    }
   ],
   "source": [
    "%pip install pyautogui pywin32 pygetwindow pynput"
   ]
  },
  {
   "cell_type": "code",
   "execution_count": 3,
   "metadata": {},
   "outputs": [],
   "source": [
    "import pyautogui # pip install pyautogui  \n",
    "import win32gui # pip install pywin32\n",
    "import pygetwindow as gw # pip install pygetwindow\n",
    "from pynput import mouse # pip install pynput"
   ]
  },
  {
   "cell_type": "code",
   "execution_count": 2,
   "metadata": {},
   "outputs": [],
   "source": [
    "# Take a screenshot of the specified region\n",
    "def window_screen_shot(rect, name=\"screenshot.png\"):\n",
    "    \n",
    "    # Extract individual elements from the rect tuple\n",
    "    x, y, right, bottom = rect\n",
    "\n",
    "    # Calculate width and height\n",
    "    width = right - x\n",
    "    height = bottom - y\n",
    "\n",
    "    print(x, y, width, height)\n",
    "\n",
    "    # Use these elements to define the region for the screenshot\n",
    "    screenshot = pyautogui.screenshot(region=(x, y, width, height))\n",
    "    screenshot.save(name)\n",
    "    print(\"Screenshot saved as\", name)\n",
    "\n"
   ]
  },
  {
   "cell_type": "code",
   "execution_count": 18,
   "metadata": {},
   "outputs": [],
   "source": [
    "# Function to get the window coordinates\n",
    "def get_window_coordinates(window_name):\n",
    "    hwnd = win32gui.FindWindow(None, window_name)\n",
    "    if hwnd:\n",
    "        rect = win32gui.GetWindowRect(hwnd)\n",
    "        return rect\n",
    "    else:\n",
    "        print(f\"Window '{window_name}' not found!\")\n",
    "        return None\n",
    "    "
   ]
  },
  {
   "cell_type": "code",
   "execution_count": 4,
   "metadata": {},
   "outputs": [
    {
     "name": "stdout",
     "output_type": "stream",
     "text": [
      "● pip.ipynb - EdwardCody_CursorTrackerTool - Visual Studio Code\n",
      "HTML Page with Images - Google Chrome\n",
      "Drafts & sent - IE/HCI 6810 F24 Cog Engineering - Slack\n",
      "Settings\n",
      "Mail - Cody, Edward M - Outlook\n",
      "Canvas - Calendar\n",
      "Settings\n",
      "NVIDIA GeForce Overlay\n",
      "Windows Input Experience\n",
      "Mail\n",
      "Mail\n",
      "Program Manager\n"
     ]
    }
   ],
   "source": [
    "# print names of all windows\n",
    "all_windows = gw.getAllTitles()\n",
    "for w in all_windows:\n",
    "    if w != \"\":\n",
    "        print(w)\n",
    "window_name = pyautogui.prompt(text='Enter the name of the window:', title='???' , default='')"
   ]
  },
  {
   "cell_type": "code",
   "execution_count": 22,
   "metadata": {},
   "outputs": [
    {
     "name": "stdout",
     "output_type": "stream",
     "text": [
      "-8 -8 2576 1408\n",
      "Screenshot saved as New Tab - Google Chrome.png\n"
     ]
    }
   ],
   "source": [
    "rect = get_window_coordinates(window_name)\n",
    "window_screen_shot(rect, name=window_name + \".png\")"
   ]
  },
  {
   "cell_type": "code",
   "execution_count": 24,
   "metadata": {},
   "outputs": [
    {
     "name": "stdout",
     "output_type": "stream",
     "text": [
      "-8 -8 2576 1408\n",
      "Screenshot saved as pip.ipynb - EdwardCody_CursorTrackerTool - Visual Studio Code.png\n"
     ]
    }
   ],
   "source": [
    "# active window\n",
    "window_name = gw.getActiveWindowTitle()\n",
    "rect = get_window_coordinates(window_name)\n",
    "window_screen_shot(rect, name=window_name + \".png\")"
   ]
  },
  {
   "cell_type": "code",
   "execution_count": 10,
   "metadata": {},
   "outputs": [],
   "source": [
    "# Take a screenshot of the entire screen\n",
    "screenshot = pyautogui.screenshot()\n",
    "\n",
    "# Save the screenshot to a file\n",
    "screenshot.save('full_screenshot.png')"
   ]
  },
  {
   "cell_type": "code",
   "execution_count": 11,
   "metadata": {},
   "outputs": [
    {
     "name": "stdout",
     "output_type": "stream",
     "text": [
      "screensize:  Size(width=2560, height=1440)\n"
     ]
    }
   ],
   "source": [
    "print(\"screensize: \", pyautogui.size())"
   ]
  },
  {
   "cell_type": "code",
   "execution_count": 6,
   "metadata": {},
   "outputs": [
    {
     "name": "stdout",
     "output_type": "stream",
     "text": [
      "Point(x=2895, y=293)\n",
      "Point(x=2902, y=294)\n",
      "Point(x=3032, y=319)\n",
      "Point(x=3077, y=336)\n",
      "Point(x=3079, y=337)\n",
      "Point(x=3079, y=337)\n",
      "Point(x=3079, y=339)\n",
      "Point(x=3079, y=339)\n",
      "Point(x=3079, y=339)\n",
      "Point(x=3079, y=339)\n",
      "Point(x=3079, y=339)\n",
      "Point(x=3079, y=339)\n",
      "Point(x=3079, y=339)\n",
      "Point(x=3079, y=339)\n",
      "Point(x=3079, y=339)\n",
      "Point(x=3079, y=339)\n",
      "Point(x=3079, y=339)\n",
      "Point(x=3128, y=382)\n",
      "Point(x=3378, y=599)\n",
      "Point(x=3388, y=607)\n",
      "Point(x=3303, y=529)\n",
      "Point(x=3182, y=430)\n",
      "Point(x=3176, y=427)\n",
      "Point(x=3169, y=425)\n",
      "Point(x=3117, y=407)\n",
      "Point(x=3062, y=382)\n",
      "Point(x=3000, y=326)\n",
      "Point(x=2979, y=284)\n",
      "Point(x=2957, y=283)\n",
      "Point(x=2925, y=284)\n",
      "Point(x=2904, y=290)\n",
      "Point(x=2888, y=290)\n",
      "Point(x=2885, y=289)\n",
      "Mouse Button.left clicked at (2885, 289)\n",
      "Point(x=2885, y=289)\n"
     ]
    }
   ],
   "source": [
    "import pyautogui\n",
    "from pynput import mouse\n",
    "import threading\n",
    "import time\n",
    "\n",
    "# Function to handle mouse click events\n",
    "def on_click(x, y, button, pressed):\n",
    "    if pressed:\n",
    "        print(f\"Mouse {button} clicked at ({x}, {y})\")\n",
    "\n",
    "# Start listening to mouse events\n",
    "listener = mouse.Listener(on_click=on_click)\n",
    "listener.start()\n",
    "\n",
    "# Loop to print mouse position continuously\n",
    "try:\n",
    "    while True:\n",
    "        print(pyautogui.position())\n",
    "        time.sleep(0.1)  # Sleep for a short duration to avoid flooding the output\n",
    "except KeyboardInterrupt: # Control+C to stop  but doesn't work in jupyter\n",
    "    # Stop the listener when the script is interrupted\n",
    "    listener.stop()"
   ]
  },
  {
   "cell_type": "code",
   "execution_count": 4,
   "metadata": {},
   "outputs": [
    {
     "name": "stdout",
     "output_type": "stream",
     "text": [
      "Requirement already satisfied: screeninfo in c:\\users\\owner\\appdata\\local\\packages\\pythonsoftwarefoundation.python.3.11_qbz5n2kfra8p0\\localcache\\local-packages\\python311\\site-packages (0.8.1)\n",
      "Note: you may need to restart the kernel to use updated packages.\n"
     ]
    },
    {
     "name": "stderr",
     "output_type": "stream",
     "text": [
      "\n",
      "[notice] A new release of pip is available: 24.0 -> 24.3.1\n",
      "[notice] To update, run: C:\\Users\\Owner\\AppData\\Local\\Microsoft\\WindowsApps\\PythonSoftwareFoundation.Python.3.11_qbz5n2kfra8p0\\python.exe -m pip install --upgrade pip\n"
     ]
    }
   ],
   "source": [
    "%pip install screeninfo"
   ]
  },
  {
   "cell_type": "code",
   "execution_count": 5,
   "metadata": {},
   "outputs": [
    {
     "name": "stdout",
     "output_type": "stream",
     "text": [
      "Requirement already satisfied: pandas in c:\\users\\owner\\appdata\\local\\packages\\pythonsoftwarefoundation.python.3.11_qbz5n2kfra8p0\\localcache\\local-packages\\python311\\site-packages (2.2.3)\n",
      "Requirement already satisfied: numpy>=1.23.2 in c:\\users\\owner\\appdata\\local\\packages\\pythonsoftwarefoundation.python.3.11_qbz5n2kfra8p0\\localcache\\local-packages\\python311\\site-packages (from pandas) (2.1.3)\n",
      "Requirement already satisfied: python-dateutil>=2.8.2 in c:\\users\\owner\\appdata\\local\\packages\\pythonsoftwarefoundation.python.3.11_qbz5n2kfra8p0\\localcache\\local-packages\\python311\\site-packages (from pandas) (2.9.0.post0)\n",
      "Requirement already satisfied: pytz>=2020.1 in c:\\users\\owner\\appdata\\local\\packages\\pythonsoftwarefoundation.python.3.11_qbz5n2kfra8p0\\localcache\\local-packages\\python311\\site-packages (from pandas) (2024.2)\n",
      "Requirement already satisfied: tzdata>=2022.7 in c:\\users\\owner\\appdata\\local\\packages\\pythonsoftwarefoundation.python.3.11_qbz5n2kfra8p0\\localcache\\local-packages\\python311\\site-packages (from pandas) (2024.2)\n",
      "Requirement already satisfied: six>=1.5 in c:\\users\\owner\\appdata\\local\\packages\\pythonsoftwarefoundation.python.3.11_qbz5n2kfra8p0\\localcache\\local-packages\\python311\\site-packages (from python-dateutil>=2.8.2->pandas) (1.16.0)\n",
      "Note: you may need to restart the kernel to use updated packages.\n"
     ]
    },
    {
     "name": "stderr",
     "output_type": "stream",
     "text": [
      "\n",
      "[notice] A new release of pip is available: 24.0 -> 24.3.1\n",
      "[notice] To update, run: C:\\Users\\Owner\\AppData\\Local\\Microsoft\\WindowsApps\\PythonSoftwareFoundation.Python.3.11_qbz5n2kfra8p0\\python.exe -m pip install --upgrade pip\n"
     ]
    },
    {
     "name": "stdout",
     "output_type": "stream",
     "text": [
      "Requirement already satisfied: matplotlib in c:\\users\\owner\\appdata\\local\\packages\\pythonsoftwarefoundation.python.3.11_qbz5n2kfra8p0\\localcache\\local-packages\\python311\\site-packages (3.9.2)\n",
      "Requirement already satisfied: contourpy>=1.0.1 in c:\\users\\owner\\appdata\\local\\packages\\pythonsoftwarefoundation.python.3.11_qbz5n2kfra8p0\\localcache\\local-packages\\python311\\site-packages (from matplotlib) (1.3.1)\n",
      "Requirement already satisfied: cycler>=0.10 in c:\\users\\owner\\appdata\\local\\packages\\pythonsoftwarefoundation.python.3.11_qbz5n2kfra8p0\\localcache\\local-packages\\python311\\site-packages (from matplotlib) (0.12.1)\n",
      "Requirement already satisfied: fonttools>=4.22.0 in c:\\users\\owner\\appdata\\local\\packages\\pythonsoftwarefoundation.python.3.11_qbz5n2kfra8p0\\localcache\\local-packages\\python311\\site-packages (from matplotlib) (4.55.0)\n",
      "Requirement already satisfied: kiwisolver>=1.3.1 in c:\\users\\owner\\appdata\\local\\packages\\pythonsoftwarefoundation.python.3.11_qbz5n2kfra8p0\\localcache\\local-packages\\python311\\site-packages (from matplotlib) (1.4.7)\n",
      "Requirement already satisfied: numpy>=1.23 in c:\\users\\owner\\appdata\\local\\packages\\pythonsoftwarefoundation.python.3.11_qbz5n2kfra8p0\\localcache\\local-packages\\python311\\site-packages (from matplotlib) (2.1.3)\n",
      "Requirement already satisfied: packaging>=20.0 in c:\\users\\owner\\appdata\\local\\packages\\pythonsoftwarefoundation.python.3.11_qbz5n2kfra8p0\\localcache\\local-packages\\python311\\site-packages (from matplotlib) (24.2)\n",
      "Requirement already satisfied: pillow>=8 in c:\\users\\owner\\appdata\\local\\packages\\pythonsoftwarefoundation.python.3.11_qbz5n2kfra8p0\\localcache\\local-packages\\python311\\site-packages (from matplotlib) (11.0.0)\n",
      "Requirement already satisfied: pyparsing>=2.3.1 in c:\\users\\owner\\appdata\\local\\packages\\pythonsoftwarefoundation.python.3.11_qbz5n2kfra8p0\\localcache\\local-packages\\python311\\site-packages (from matplotlib) (3.2.0)\n",
      "Requirement already satisfied: python-dateutil>=2.7 in c:\\users\\owner\\appdata\\local\\packages\\pythonsoftwarefoundation.python.3.11_qbz5n2kfra8p0\\localcache\\local-packages\\python311\\site-packages (from matplotlib) (2.9.0.post0)\n",
      "Requirement already satisfied: six>=1.5 in c:\\users\\owner\\appdata\\local\\packages\\pythonsoftwarefoundation.python.3.11_qbz5n2kfra8p0\\localcache\\local-packages\\python311\\site-packages (from python-dateutil>=2.7->matplotlib) (1.16.0)\n",
      "Note: you may need to restart the kernel to use updated packages.\n"
     ]
    },
    {
     "name": "stderr",
     "output_type": "stream",
     "text": [
      "\n",
      "[notice] A new release of pip is available: 24.0 -> 24.3.1\n",
      "[notice] To update, run: C:\\Users\\Owner\\AppData\\Local\\Microsoft\\WindowsApps\\PythonSoftwareFoundation.Python.3.11_qbz5n2kfra8p0\\python.exe -m pip install --upgrade pip\n"
     ]
    },
    {
     "name": "stdout",
     "output_type": "stream",
     "text": [
      "Requirement already satisfied: seaborn in c:\\users\\owner\\appdata\\local\\packages\\pythonsoftwarefoundation.python.3.11_qbz5n2kfra8p0\\localcache\\local-packages\\python311\\site-packages (0.13.2)Note: you may need to restart the kernel to use updated packages.\n",
      "\n",
      "Requirement already satisfied: numpy!=1.24.0,>=1.20 in c:\\users\\owner\\appdata\\local\\packages\\pythonsoftwarefoundation.python.3.11_qbz5n2kfra8p0\\localcache\\local-packages\\python311\\site-packages (from seaborn) (2.1.3)\n",
      "Requirement already satisfied: pandas>=1.2 in c:\\users\\owner\\appdata\\local\\packages\\pythonsoftwarefoundation.python.3.11_qbz5n2kfra8p0\\localcache\\local-packages\\python311\\site-packages (from seaborn) (2.2.3)\n",
      "Requirement already satisfied: matplotlib!=3.6.1,>=3.4 in c:\\users\\owner\\appdata\\local\\packages\\pythonsoftwarefoundation.python.3.11_qbz5n2kfra8p0\\localcache\\local-packages\\python311\\site-packages (from seaborn) (3.9.2)\n",
      "Requirement already satisfied: contourpy>=1.0.1 in c:\\users\\owner\\appdata\\local\\packages\\pythonsoftwarefoundation.python.3.11_qbz5n2kfra8p0\\localcache\\local-packages\\python311\\site-packages (from matplotlib!=3.6.1,>=3.4->seaborn) (1.3.1)\n",
      "Requirement already satisfied: cycler>=0.10 in c:\\users\\owner\\appdata\\local\\packages\\pythonsoftwarefoundation.python.3.11_qbz5n2kfra8p0\\localcache\\local-packages\\python311\\site-packages (from matplotlib!=3.6.1,>=3.4->seaborn) (0.12.1)\n",
      "Requirement already satisfied: fonttools>=4.22.0 in c:\\users\\owner\\appdata\\local\\packages\\pythonsoftwarefoundation.python.3.11_qbz5n2kfra8p0\\localcache\\local-packages\\python311\\site-packages (from matplotlib!=3.6.1,>=3.4->seaborn) (4.55.0)\n",
      "Requirement already satisfied: kiwisolver>=1.3.1 in c:\\users\\owner\\appdata\\local\\packages\\pythonsoftwarefoundation.python.3.11_qbz5n2kfra8p0\\localcache\\local-packages\\python311\\site-packages (from matplotlib!=3.6.1,>=3.4->seaborn) (1.4.7)\n",
      "Requirement already satisfied: packaging>=20.0 in c:\\users\\owner\\appdata\\local\\packages\\pythonsoftwarefoundation.python.3.11_qbz5n2kfra8p0\\localcache\\local-packages\\python311\\site-packages (from matplotlib!=3.6.1,>=3.4->seaborn) (24.2)\n",
      "Requirement already satisfied: pillow>=8 in c:\\users\\owner\\appdata\\local\\packages\\pythonsoftwarefoundation.python.3.11_qbz5n2kfra8p0\\localcache\\local-packages\\python311\\site-packages (from matplotlib!=3.6.1,>=3.4->seaborn) (11.0.0)\n",
      "Requirement already satisfied: pyparsing>=2.3.1 in c:\\users\\owner\\appdata\\local\\packages\\pythonsoftwarefoundation.python.3.11_qbz5n2kfra8p0\\localcache\\local-packages\\python311\\site-packages (from matplotlib!=3.6.1,>=3.4->seaborn) (3.2.0)\n",
      "Requirement already satisfied: python-dateutil>=2.7 in c:\\users\\owner\\appdata\\local\\packages\\pythonsoftwarefoundation.python.3.11_qbz5n2kfra8p0\\localcache\\local-packages\\python311\\site-packages (from matplotlib!=3.6.1,>=3.4->seaborn) (2.9.0.post0)\n",
      "Requirement already satisfied: pytz>=2020.1 in c:\\users\\owner\\appdata\\local\\packages\\pythonsoftwarefoundation.python.3.11_qbz5n2kfra8p0\\localcache\\local-packages\\python311\\site-packages (from pandas>=1.2->seaborn) (2024.2)\n",
      "Requirement already satisfied: tzdata>=2022.7 in c:\\users\\owner\\appdata\\local\\packages\\pythonsoftwarefoundation.python.3.11_qbz5n2kfra8p0\\localcache\\local-packages\\python311\\site-packages (from pandas>=1.2->seaborn) (2024.2)\n",
      "Requirement already satisfied: six>=1.5 in c:\\users\\owner\\appdata\\local\\packages\\pythonsoftwarefoundation.python.3.11_qbz5n2kfra8p0\\localcache\\local-packages\\python311\\site-packages (from python-dateutil>=2.7->matplotlib!=3.6.1,>=3.4->seaborn) (1.16.0)\n"
     ]
    },
    {
     "name": "stderr",
     "output_type": "stream",
     "text": [
      "\n",
      "[notice] A new release of pip is available: 24.0 -> 24.3.1\n",
      "[notice] To update, run: C:\\Users\\Owner\\AppData\\Local\\Microsoft\\WindowsApps\\PythonSoftwareFoundation.Python.3.11_qbz5n2kfra8p0\\python.exe -m pip install --upgrade pip\n"
     ]
    },
    {
     "name": "stdout",
     "output_type": "stream",
     "text": [
      "Requirement already satisfied: flask in c:\\users\\owner\\appdata\\local\\packages\\pythonsoftwarefoundation.python.3.11_qbz5n2kfra8p0\\localcache\\local-packages\\python311\\site-packages (3.1.0)\n",
      "Requirement already satisfied: Werkzeug>=3.1 in c:\\users\\owner\\appdata\\local\\packages\\pythonsoftwarefoundation.python.3.11_qbz5n2kfra8p0\\localcache\\local-packages\\python311\\site-packages (from flask) (3.1.3)\n",
      "Requirement already satisfied: Jinja2>=3.1.2 in c:\\users\\owner\\appdata\\local\\packages\\pythonsoftwarefoundation.python.3.11_qbz5n2kfra8p0\\localcache\\local-packages\\python311\\site-packages (from flask) (3.1.4)\n",
      "Requirement already satisfied: itsdangerous>=2.2 in c:\\users\\owner\\appdata\\local\\packages\\pythonsoftwarefoundation.python.3.11_qbz5n2kfra8p0\\localcache\\local-packages\\python311\\site-packages (from flask) (2.2.0)\n",
      "Requirement already satisfied: click>=8.1.3 in c:\\users\\owner\\appdata\\local\\packages\\pythonsoftwarefoundation.python.3.11_qbz5n2kfra8p0\\localcache\\local-packages\\python311\\site-packages (from flask) (8.1.7)\n",
      "Requirement already satisfied: blinker>=1.9 in c:\\users\\owner\\appdata\\local\\packages\\pythonsoftwarefoundation.python.3.11_qbz5n2kfra8p0\\localcache\\local-packages\\python311\\site-packages (from flask) (1.9.0)\n",
      "Requirement already satisfied: colorama in c:\\users\\owner\\appdata\\local\\packages\\pythonsoftwarefoundation.python.3.11_qbz5n2kfra8p0\\localcache\\local-packages\\python311\\site-packages (from click>=8.1.3->flask) (0.4.6)\n",
      "Requirement already satisfied: MarkupSafe>=2.0 in c:\\users\\owner\\appdata\\local\\packages\\pythonsoftwarefoundation.python.3.11_qbz5n2kfra8p0\\localcache\\local-packages\\python311\\site-packages (from Jinja2>=3.1.2->flask) (3.0.2)\n",
      "Note: you may need to restart the kernel to use updated packages.\n"
     ]
    },
    {
     "name": "stderr",
     "output_type": "stream",
     "text": [
      "\n",
      "[notice] A new release of pip is available: 24.0 -> 24.3.1\n",
      "[notice] To update, run: C:\\Users\\Owner\\AppData\\Local\\Microsoft\\WindowsApps\\PythonSoftwareFoundation.Python.3.11_qbz5n2kfra8p0\\python.exe -m pip install --upgrade pip\n"
     ]
    }
   ],
   "source": [
    "%pip install pandas\n",
    "%pip install matplotlib\n",
    "%pip install seaborn\n",
    "%pip install flask"
   ]
  },
  {
   "cell_type": "code",
   "execution_count": null,
   "metadata": {},
   "outputs": [],
   "source": [
    "# # heatmap with interior inset colorbar\n",
    "# # It's actually petty tricky to make so that only the heatmap is shown, i.e. is not padded, etc.\n",
    "# # I put the colorbar in an inset, so that the plot is not stretched to accommodate the colorbar.\n",
    "\n",
    "# import pandas as pd\n",
    "# import matplotlib.pyplot as plt\n",
    "# import seaborn as sns\n",
    "# from mpl_toolkits.axes_grid1.inset_locator import inset_axes\n",
    "\n",
    "# # Read in coordinates.csv\n",
    "# df = pd.read_csv('data/mouse0.csv')\n",
    "\n",
    "# # # Size the figure\n",
    "# # plt.figure(figsize=(10, 6))\n",
    "\n",
    "# # Create a figure and axes\n",
    "# fig, ax = plt.subplots(figsize=(10, 5.625))\n",
    "\n",
    "# # Set figure background to transparent\n",
    "# fig.patch.set_alpha(0)\n",
    "# ax.patch.set_alpha(0)\n",
    "\n",
    "# # Create a KDE plot on the specified axes\n",
    "# kde = sns.kdeplot(x=df['x'], y=df['y'], cmap='viridis', fill=True, ax=ax)\n",
    "\n",
    "# # TO REMOVE LEGEND, COMMENT OUT FROM HERE...\n",
    "\n",
    "# # Create an inset for the colorbar\n",
    "# inset_ax = inset_axes(ax,\n",
    "#                    width=\"5%\",  # width of the colorbar\n",
    "#                    height=\"50%\",  # height of the colorbar\n",
    "#                    loc='upper right',\n",
    "#                    bbox_to_anchor=(-0.05, -0.03, 1, 1), # -0.15 moves the colorbar to the left and down\n",
    "#                    bbox_transform=ax.transAxes,\n",
    "#                    borderpad=0)\n",
    "\n",
    "# cbar = plt.colorbar(kde.collections[0], cax=inset_ax, orientation='vertical')\n",
    "# cbar.ax.tick_params(labelsize=8)\n",
    "\n",
    "# # rounnd the colorbar ticks label values\n",
    "# tick_labels = cbar.ax.get_yticklabels()\n",
    "\n",
    "# # Extract the text from the tick labels, round them, and set them back\n",
    "# rounded_labels = [f'{float(label.get_text()):.2f}' for label in tick_labels]\n",
    "# cbar.set_ticklabels(rounded_labels)\n",
    "\n",
    "# # ...TO HERE\n",
    "\n",
    "# # Remove axis labels and ticks\n",
    "# ax.set_xlabel('')\n",
    "# ax.set_ylabel('')\n",
    "# ax.set_xticks([])\n",
    "# ax.set_yticks([])\n",
    "\n",
    "# # Ensure x and y axes have the same scale\n",
    "# ax.set_aspect('equal', adjustable='box')\n",
    "\n",
    "# # Remove the spines (borders) around the plot\n",
    "# for spine in ax.spines.values():\n",
    "#     spine.set_visible(False)\n",
    "\n",
    "# # Adjust the layout to remove extra padding\n",
    "# plt.subplots_adjust(left=0, right=1, top=1, bottom=0)\n",
    "\n",
    "# # Save with transparent background\n",
    "# plt.savefig('static/data/heatmap_transparent.png', transparent=True, bbox_inches='tight', pad_inches=0)\n",
    "\n",
    "# # Show the plot\n",
    "# plt.show()"
   ]
  },
  {
   "cell_type": "code",
   "execution_count": 16,
   "metadata": {},
   "outputs": [
    {
     "name": "stdout",
     "output_type": "stream",
     "text": [
      "2560\n",
      "1440\n"
     ]
    },
    {
     "data": {
      "image/png": "[encoded data removed]",
      "text/plain": [
       "<Figure size 2560x1440 with 2 Axes>"
      ]
     },
     "metadata": {
      "needs_background": "light"
     },
     "output_type": "display_data"
    }
   ],
   "source": [
    "import pandas as pd\n",
    "import matplotlib.pyplot as plt\n",
    "import seaborn as sns\n",
    "from mpl_toolkits.axes_grid1.inset_locator import inset_axes\n",
    "from screeninfo import get_monitors  # Requires `screeninfo` library\n",
    "\n",
    "# Read in coordinates.csv\n",
    "df = pd.read_csv('data/mouse0.csv')\n",
    "\n",
    "# Get screen dimensions\n",
    "screen = get_monitors()[0]  # Assumes a single monitor setup; otherwise specify the desired monitor\n",
    "# screen_size = max(screen.width, screen.height) / 100 # Scale down to make a manageable figure size  #Old render size code\n",
    "screen_width = screen.width  #new render size code\n",
    "screen_height = screen.height  #new render size code\n",
    "print(screen_width)  #new render size code\n",
    "print(screen_height)  #new render size code\n",
    "\n",
    "# Calculate figsize in inches to match the screen resolution\n",
    "fig_width_inch = screen_width / 100  # Scale down by 100 DPI (or use screen DPI if known)\n",
    "fig_height_inch = screen_height / 100\n",
    "\n",
    "# Create a square figure and axes\n",
    "fig, ax = plt.subplots(figsize=(fig_width_inch, fig_height_inch))  # Set size to screen resolution\n",
    "# fig, ax = plt.subplots(figsize=(10, 10))  # Square aspect ratio  #new render size code\n",
    "# fig, ax = plt.subplots(figsize=(fig_width_inch, fig_height_inch))  # Set size to screen resolution\n",
    "\n",
    "\n",
    "# Set figure background to transparent\n",
    "fig.patch.set_alpha(0)\n",
    "ax.patch.set_alpha(0)\n",
    "\n",
    "# Invert y-axis to match the coordinate system of the recorded data\n",
    "ax.invert_yaxis()\n",
    "\n",
    "# Create a KDE plot on the specified axes\n",
    "# kde = sns.kdeplot(x=df['x'], y=df['y'], cmap='viridis', fill=True, ax=ax)  #Old render size code\n",
    "kde = sns.kdeplot(x=df['x'], y=df['y'], cmap='viridis', fill=True, ax=ax, clip=((screen_width, 0), (0, screen_height)))  #new render size code\n",
    "\n",
    "# Create an inset for the colorbar\n",
    "inset_ax = inset_axes(ax,\n",
    "                   width=\"5%\",  # width of the colorbar\n",
    "                   height=\"50%\",  # height of the colorbar\n",
    "                   loc='upper right',\n",
    "                   bbox_to_anchor=(-0.05, -0.03, 1, 1),  # Adjust as needed\n",
    "                   bbox_transform=ax.transAxes,\n",
    "                   borderpad=0)\n",
    "\n",
    "cbar = plt.colorbar(kde.collections[0], cax=inset_ax, orientation='vertical')\n",
    "cbar.ax.tick_params(labelsize=8)\n",
    "\n",
    "# Round the colorbar tick labels\n",
    "tick_labels = cbar.ax.get_yticklabels()\n",
    "rounded_labels = [f'{float(label.get_text()):.2f}' for label in tick_labels]\n",
    "cbar.set_ticklabels(rounded_labels)\n",
    "\n",
    "# Remove axis labels and ticks\n",
    "ax.set_xlabel('')\n",
    "ax.set_ylabel('')\n",
    "# ax.set_xticks([0, 1280, 2560])  #add labels for debugging\n",
    "# ax.set_yticks([0, 720, 1440])  #add labels for debugging\n",
    "ax.set_xticks([])\n",
    "ax.set_yticks([])\n",
    "\n",
    "# Ensure x and y axes have the same scale\n",
    "ax.set_aspect('equal', adjustable='box')\n",
    "\n",
    "# Remove the spines (borders) around the plot\n",
    "for spine in ax.spines.values():\n",
    "    spine.set_visible(False)\n",
    "\n",
    "# Adjust the layout to remove extra padding\n",
    "plt.subplots_adjust(left=0, right=1, top=1, bottom=0)\n",
    "\n",
    "# Save with transparent background in square aspect ratio\n",
    "plt.savefig('static/data/heatmap_transparent.png', transparent=True, dpi=100, bbox_inches='tight', pad_inches=0)  #dpi added\n",
    "\n",
    "# Show the plot\n",
    "plt.show()\n"
   ]
  },
  {
   "cell_type": "code",
   "execution_count": null,
   "metadata": {},
   "outputs": [],
   "source": [
    "\n",
    "# save plot as png with transparent background and 50% opacity\n",
    "fig.savefig('heatmap.png', transparent=True, pad_inches=0, dpi=300)\n"
   ]
  },
  {
   "cell_type": "code",
   "execution_count": 18,
   "metadata": {},
   "outputs": [],
   "source": [
    "import pyautogui\n",
    "\n",
    "screenshot = pyautogui.screenshot()\n",
    "screenshot.save('test_screenshot.png')\n"
   ]
  },
  {
   "cell_type": "code",
   "execution_count": null,
   "metadata": {},
   "outputs": [
    {
     "ename": "NameError",
     "evalue": "name 'current_page_number' is not defined",
     "output_type": "error",
     "traceback": [
      "\u001b[1;31m---------------------------------------------------------------------------\u001b[0m",
      "\u001b[1;31mNameError\u001b[0m                                 Traceback (most recent call last)",
      "Cell \u001b[1;32mIn[19], line 1\u001b[0m\n\u001b[1;32m----> 1\u001b[0m file_path \u001b[38;5;241m=\u001b[39m \u001b[38;5;124mf\u001b[39m\u001b[38;5;124m'\u001b[39m\u001b[38;5;124mstatic/data/screenshot_page\u001b[39m\u001b[38;5;132;01m{\u001b[39;00m\u001b[43mcurrent_page_number\u001b[49m\u001b[38;5;241m+\u001b[39m\u001b[38;5;241m1\u001b[39m\u001b[38;5;132;01m}\u001b[39;00m\u001b[38;5;124m.png\u001b[39m\u001b[38;5;124m'\u001b[39m\n\u001b[0;32m      2\u001b[0m screenshot\u001b[38;5;241m.\u001b[39msave(file_path)\n\u001b[0;32m      3\u001b[0m \u001b[38;5;28mprint\u001b[39m(\u001b[38;5;124mf\u001b[39m\u001b[38;5;124m\"\u001b[39m\u001b[38;5;124mScreenshot saved to \u001b[39m\u001b[38;5;132;01m{\u001b[39;00mfile_path\u001b[38;5;132;01m}\u001b[39;00m\u001b[38;5;124m\"\u001b[39m)\n",
      "\u001b[1;31mNameError\u001b[0m: name 'current_page_number' is not defined"
     ]
    }
   ],
   "source": [
    "current_page_number = 0\n",
    "file_path = f'static/data/screenshot_page{current_page_number+1}.png'\n",
    "screenshot.save(file_path)\n",
    "print(f\"Screenshot saved to {file_path}\")"
   ]
  }
 ],
 "metadata": {
  "kernelspec": {
   "display_name": "Python 3",
   "language": "python",
   "name": "python3"
  },
  "language_info": {
   "codemirror_mode": {
    "name": "ipython",
    "version": 3
   },
   "file_extension": ".py",
   "mimetype": "text/x-python",
   "name": "python",
   "nbconvert_exporter": "python",
   "pygments_lexer": "ipython3",
   "version": "3.11.9"
  }
 },
 "nbformat": 4,
 "nbformat_minor": 2
}
