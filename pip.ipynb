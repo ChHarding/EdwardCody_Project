{
 "cells": [
  {
   "cell_type": "code",
   "execution_count": 3,
   "metadata": {},
   "outputs": [
    {
     "name": "stdout",
     "output_type": "stream",
     "text": [
      "Requirement already satisfied: flask_cors in c:\\users\\emcod\\appdata\\local\\programs\\python\\python312\\lib\\site-packages (5.0.0)\n",
      "Requirement already satisfied: Flask>=0.9 in c:\\users\\emcod\\appdata\\local\\programs\\python\\python312\\lib\\site-packages (from flask_cors) (3.0.3)\n",
      "Requirement already satisfied: Werkzeug>=3.0.0 in c:\\users\\emcod\\appdata\\local\\programs\\python\\python312\\lib\\site-packages (from Flask>=0.9->flask_cors) (3.0.2)\n",
      "Requirement already satisfied: Jinja2>=3.1.2 in c:\\users\\emcod\\appdata\\local\\programs\\python\\python312\\lib\\site-packages (from Flask>=0.9->flask_cors) (3.1.4)\n",
      "Requirement already satisfied: itsdangerous>=2.1.2 in c:\\users\\emcod\\appdata\\local\\programs\\python\\python312\\lib\\site-packages (from Flask>=0.9->flask_cors) (2.2.0)\n",
      "Requirement already satisfied: click>=8.1.3 in c:\\users\\emcod\\appdata\\local\\programs\\python\\python312\\lib\\site-packages (from Flask>=0.9->flask_cors) (8.1.7)\n",
      "Requirement already satisfied: blinker>=1.6.2 in c:\\users\\emcod\\appdata\\local\\programs\\python\\python312\\lib\\site-packages (from Flask>=0.9->flask_cors) (1.7.0)\n",
      "Requirement already satisfied: colorama in c:\\users\\emcod\\appdata\\roaming\\python\\python312\\site-packages (from click>=8.1.3->Flask>=0.9->flask_cors) (0.4.6)\n",
      "Requirement already satisfied: MarkupSafe>=2.0 in c:\\users\\emcod\\appdata\\local\\programs\\python\\python312\\lib\\site-packages (from Jinja2>=3.1.2->Flask>=0.9->flask_cors) (2.1.5)\n",
      "Note: you may need to restart the kernel to use updated packages.\n"
     ]
    },
    {
     "name": "stderr",
     "output_type": "stream",
     "text": [
      "\n",
      "[notice] A new release of pip is available: 24.0 -> 24.3.1\n",
      "[notice] To update, run: python.exe -m pip install --upgrade pip\n"
     ]
    }
   ],
   "source": [
    "%pip install flask_cors"
   ]
  },
  {
   "cell_type": "markdown",
   "metadata": {},
   "source": [
    "https://pyautogui.readthedocs.io/en/latest/quickstart.html\n",
    "https://pygetwindow.readthedocs.io/en/latest/#"
   ]
  },
  {
   "cell_type": "code",
   "execution_count": 4,
   "metadata": {},
   "outputs": [
    {
     "name": "stdout",
     "output_type": "stream",
     "text": [
      "Requirement already satisfied: pyautogui in c:\\users\\emcod\\appdata\\local\\programs\\python\\python312\\lib\\site-packages (0.9.54)\n",
      "Requirement already satisfied: pywin32 in c:\\users\\emcod\\appdata\\roaming\\python\\python312\\site-packages (306)\n",
      "Requirement already satisfied: pygetwindow in c:\\users\\emcod\\appdata\\local\\programs\\python\\python312\\lib\\site-packages (0.0.9)\n",
      "Requirement already satisfied: pynput in c:\\users\\emcod\\appdata\\local\\programs\\python\\python312\\lib\\site-packages (1.7.7)\n",
      "Requirement already satisfied: pymsgbox in c:\\users\\emcod\\appdata\\local\\programs\\python\\python312\\lib\\site-packages (from pyautogui) (1.0.9)\n",
      "Requirement already satisfied: pytweening>=1.0.4 in c:\\users\\emcod\\appdata\\local\\programs\\python\\python312\\lib\\site-packages (from pyautogui) (1.2.0)\n",
      "Requirement already satisfied: pyscreeze>=0.1.21 in c:\\users\\emcod\\appdata\\local\\programs\\python\\python312\\lib\\site-packages (from pyautogui) (1.0.1)\n",
      "Requirement already satisfied: mouseinfo in c:\\users\\emcod\\appdata\\local\\programs\\python\\python312\\lib\\site-packages (from pyautogui) (0.1.3)\n",
      "Requirement already satisfied: pyrect in c:\\users\\emcod\\appdata\\local\\programs\\python\\python312\\lib\\site-packages (from pygetwindow) (0.2.0)\n",
      "Requirement already satisfied: six in c:\\users\\emcod\\appdata\\roaming\\python\\python312\\site-packages (from pynput) (1.16.0)\n",
      "Requirement already satisfied: pyperclip in c:\\users\\emcod\\appdata\\local\\programs\\python\\python312\\lib\\site-packages (from mouseinfo->pyautogui) (1.9.0)\n",
      "Note: you may need to restart the kernel to use updated packages.\n"
     ]
    },
    {
     "name": "stderr",
     "output_type": "stream",
     "text": [
      "\n",
      "[notice] A new release of pip is available: 24.0 -> 24.3.1\n",
      "[notice] To update, run: python.exe -m pip install --upgrade pip\n"
     ]
    }
   ],
   "source": [
    "%pip install pyautogui pywin32 pygetwindow pynput"
   ]
  },
  {
   "cell_type": "code",
   "execution_count": 5,
   "metadata": {},
   "outputs": [],
   "source": [
    "import pyautogui # pip install pyautogui  \n",
    "import win32gui # pip install pywin32\n",
    "import pygetwindow as gw # pip install pygetwindow\n",
    "from pynput import mouse # pip install pynput"
   ]
  },
  {
   "cell_type": "code",
   "execution_count": 5,
   "metadata": {},
   "outputs": [],
   "source": [
    "# Take a screenshot of the specified region\n",
    "def window_screen_shot(rect, name=\"screenshot.png\"):\n",
    "    \n",
    "    # Extract individual elements from the rect tuple\n",
    "    x, y, right, bottom = rect\n",
    "\n",
    "    # Calculate width and height\n",
    "    width = right - x\n",
    "    height = bottom - y\n",
    "\n",
    "    print(x, y, width, height)\n",
    "\n",
    "    # Use these elements to define the region for the screenshot\n",
    "    screenshot = pyautogui.screenshot(region=(x, y, width, height))\n",
    "    screenshot.save(name)\n",
    "    print(\"Screenshot saved as\", name)\n",
    "\n"
   ]
  },
  {
   "cell_type": "code",
   "execution_count": 6,
   "metadata": {},
   "outputs": [],
   "source": [
    "# Function to get the window coordinates\n",
    "def get_window_coordinates(window_name):\n",
    "    hwnd = win32gui.FindWindow(None, window_name)\n",
    "    if hwnd:\n",
    "        rect = win32gui.GetWindowRect(hwnd)\n",
    "        return rect\n",
    "    else:\n",
    "        print(f\"Window '{window_name}' not found!\")\n",
    "        return None\n",
    "    "
   ]
  },
  {
   "cell_type": "code",
   "execution_count": 15,
   "metadata": {},
   "outputs": [
    {
     "name": "stdout",
     "output_type": "stream",
     "text": [
      "Form\n",
      "Grammarly Anchor Window\n",
      "Grammarly Anchor Window\n",
      "Grammarly Anchor Window\n",
      "Grammarly Anchor Window\n",
      "Grammarly Anchor Window\n",
      "Grammarly Anchor Window\n",
      "Grammarly Anchor Window\n",
      "Grammarly Anchor Window\n",
      "Grammarly Anchor Window\n",
      "Grammarly Anchor Window\n",
      "Grammarly Anchor Window\n",
      "pip.ipynb - EdwardCody_CursorTrackerTool - Visual Studio Code\n",
      "EdwardCody_CursorTrackerTool and 2 more tabs - File Explorer\n",
      "Finexo - Google Chrome\n",
      "Get ready to join\n",
      "Webex\n",
      "Mail - Cody, Edward M - Outlook\n",
      "Britton (DM) - IE/HCI 6810 F24 Cog Engineering - Slack\n",
      "Windows Input Experience\n",
      "Project Update #3.pptx - PowerPoint\n",
      "Program Manager\n"
     ]
    }
   ],
   "source": [
    "# print names of all windows\n",
    "all_windows = gw.getAllTitles()\n",
    "for w in all_windows:\n",
    "    if w != \"\":\n",
    "        print(w)\n",
    "window_name = pyautogui.prompt(text='Enter the name of the window:', title='???' , default='')"
   ]
  },
  {
   "cell_type": "code",
   "execution_count": 8,
   "metadata": {},
   "outputs": [
    {
     "ename": "TypeError",
     "evalue": "unsupported operand type(s) for +: 'NoneType' and 'str'",
     "output_type": "error",
     "traceback": [
      "\u001b[1;31m---------------------------------------------------------------------------\u001b[0m",
      "\u001b[1;31mTypeError\u001b[0m                                 Traceback (most recent call last)",
      "Cell \u001b[1;32mIn[8], line 2\u001b[0m\n\u001b[0;32m      1\u001b[0m rect \u001b[38;5;241m=\u001b[39m get_window_coordinates(window_name)\n\u001b[1;32m----> 2\u001b[0m window_screen_shot(rect, name\u001b[38;5;241m=\u001b[39m\u001b[43mwindow_name\u001b[49m\u001b[43m \u001b[49m\u001b[38;5;241;43m+\u001b[39;49m\u001b[43m \u001b[49m\u001b[38;5;124;43m\"\u001b[39;49m\u001b[38;5;124;43m.png\u001b[39;49m\u001b[38;5;124;43m\"\u001b[39;49m)\n",
      "\u001b[1;31mTypeError\u001b[0m: unsupported operand type(s) for +: 'NoneType' and 'str'"
     ]
    }
   ],
   "source": [
    "rect = get_window_coordinates(window_name)\n",
    "window_screen_shot(rect, name=window_name + \".png\")"
   ]
  },
  {
   "cell_type": "code",
   "execution_count": 9,
   "metadata": {},
   "outputs": [
    {
     "name": "stdout",
     "output_type": "stream",
     "text": [
      "2552 -8 1936 1048\n",
      "Screenshot saved as pip.ipynb - EdwardCody_CursorTrackerTool - Visual Studio Code.png\n"
     ]
    }
   ],
   "source": [
    "# active window\n",
    "window_name = gw.getActiveWindowTitle()\n",
    "rect = get_window_coordinates(window_name)\n",
    "window_screen_shot(rect, name=window_name + \".png\")"
   ]
  },
  {
   "cell_type": "code",
   "execution_count": 10,
   "metadata": {},
   "outputs": [],
   "source": [
    "# Take a screenshot of the entire screen\n",
    "screenshot = pyautogui.screenshot()\n",
    "\n",
    "# Save the screenshot to a file\n",
    "screenshot.save('full_screenshot.png')"
   ]
  },
  {
   "cell_type": "code",
   "execution_count": 11,
   "metadata": {},
   "outputs": [
    {
     "name": "stdout",
     "output_type": "stream",
     "text": [
      "screensize:  Size(width=2560, height=1440)\n"
     ]
    }
   ],
   "source": [
    "print(\"screensize: \", pyautogui.size())"
   ]
  },
  {
   "cell_type": "code",
   "execution_count": 6,
   "metadata": {},
   "outputs": [
    {
     "name": "stdout",
     "output_type": "stream",
     "text": [
      "Point(x=2895, y=293)\n",
      "Point(x=2902, y=294)\n",
      "Point(x=3032, y=319)\n",
      "Point(x=3077, y=336)\n",
      "Point(x=3079, y=337)\n",
      "Point(x=3079, y=337)\n",
      "Point(x=3079, y=339)\n",
      "Point(x=3079, y=339)\n",
      "Point(x=3079, y=339)\n",
      "Point(x=3079, y=339)\n",
      "Point(x=3079, y=339)\n",
      "Point(x=3079, y=339)\n",
      "Point(x=3079, y=339)\n",
      "Point(x=3079, y=339)\n",
      "Point(x=3079, y=339)\n",
      "Point(x=3079, y=339)\n",
      "Point(x=3079, y=339)\n",
      "Point(x=3128, y=382)\n",
      "Point(x=3378, y=599)\n",
      "Point(x=3388, y=607)\n",
      "Point(x=3303, y=529)\n",
      "Point(x=3182, y=430)\n",
      "Point(x=3176, y=427)\n",
      "Point(x=3169, y=425)\n",
      "Point(x=3117, y=407)\n",
      "Point(x=3062, y=382)\n",
      "Point(x=3000, y=326)\n",
      "Point(x=2979, y=284)\n",
      "Point(x=2957, y=283)\n",
      "Point(x=2925, y=284)\n",
      "Point(x=2904, y=290)\n",
      "Point(x=2888, y=290)\n",
      "Point(x=2885, y=289)\n",
      "Mouse Button.left clicked at (2885, 289)\n",
      "Point(x=2885, y=289)\n"
     ]
    }
   ],
   "source": [
    "import pyautogui\n",
    "from pynput import mouse\n",
    "import threading\n",
    "import time\n",
    "\n",
    "# Function to handle mouse click events\n",
    "def on_click(x, y, button, pressed):\n",
    "    if pressed:\n",
    "        print(f\"Mouse {button} clicked at ({x}, {y})\")\n",
    "\n",
    "# Start listening to mouse events\n",
    "listener = mouse.Listener(on_click=on_click)\n",
    "listener.start()\n",
    "\n",
    "# Loop to print mouse position continuously\n",
    "try:\n",
    "    while True:\n",
    "        print(pyautogui.position())\n",
    "        time.sleep(0.1)  # Sleep for a short duration to avoid flooding the output\n",
    "except KeyboardInterrupt: # Control+C to stop  but doesn't work in jupyter\n",
    "    # Stop the listener when the script is interrupted\n",
    "    listener.stop()"
   ]
  },
  {
   "cell_type": "code",
   "execution_count": 15,
   "metadata": {},
   "outputs": [
    {
     "data": {
      "image/png": "[encoded data removed]",
      "text/plain": [
       "<Figure size 640x480 with 2 Axes>"
      ]
     },
     "metadata": {},
     "output_type": "display_data"
    }
   ],
   "source": [
    "# heatmap with interior inset colorbar\n",
    "# It's actually petty tricky to make so that only the heatmap is shown, i.e. is not padded, etc.\n",
    "# I put the colorbar in an inset, so that the plot is not stretched to accommodate the colorbar.\n",
    "\n",
    "import pandas as pd\n",
    "import matplotlib.pyplot as plt\n",
    "import seaborn as sns\n",
    "from mpl_toolkits.axes_grid1.inset_locator import inset_axes\n",
    "\n",
    "# Read in coordinates.csv\n",
    "df = pd.read_csv('data/mouse2.csv')\n",
    "\n",
    "# Create a figure and axes\n",
    "fig, ax = plt.subplots()\n",
    "\n",
    "# Create a KDE plot on the specified axes\n",
    "kde = sns.kdeplot(x=df['x'], y=df['y'], cmap='viridis', fill=True, ax=ax)\n",
    "\n",
    "# Create an inset for the colorbar\n",
    "inset_ax = inset_axes(ax,\n",
    "                   width=\"5%\",  # width of the colorbar\n",
    "                   height=\"50%\",  # height of the colorbar\n",
    "                   loc='upper right',\n",
    "                   bbox_to_anchor=(-0.05, -0.03, 1, 1), # -0.15 moves the colorbar to the left and down\n",
    "                   bbox_transform=ax.transAxes,\n",
    "                   borderpad=0)\n",
    "\n",
    "cbar = plt.colorbar(kde.collections[0], cax=inset_ax, orientation='vertical')\n",
    "cbar.ax.tick_params(labelsize=8)\n",
    "\n",
    "# rounnd the colorbar ticks label values\n",
    "tick_labels = cbar.ax.get_yticklabels()\n",
    "\n",
    "# Extract the text from the tick labels, round them, and set them back\n",
    "rounded_labels = [f'{float(label.get_text()):.2f}' for label in tick_labels]\n",
    "cbar.set_ticklabels(rounded_labels)\n",
    "\n",
    "\n",
    "# Remove axis labels and ticks\n",
    "ax.set_xlabel('')\n",
    "ax.set_ylabel('')\n",
    "ax.set_xticks([])\n",
    "ax.set_yticks([])\n",
    "\n",
    "# Ensure x and y axes have the same scale\n",
    "ax.set_aspect('equal', adjustable='box')\n",
    "\n",
    "# Remove the spines (borders) around the plot\n",
    "for spine in ax.spines.values():\n",
    "    spine.set_visible(False)\n",
    "\n",
    "# Adjust the layout to remove extra padding\n",
    "plt.subplots_adjust(left=0, right=1, top=1, bottom=0)\n",
    "\n",
    "# Show the plot\n",
    "plt.show()\n"
   ]
  },
  {
   "cell_type": "code",
   "execution_count": 14,
   "metadata": {},
   "outputs": [],
   "source": [
    "\n",
    "# save plot as png with transparent background and 50% opacity\n",
    "fig.savefig('heatmap.png', transparent=True, pad_inches=0, dpi=300)\n"
   ]
  }
 ],
 "metadata": {
  "kernelspec": {
   "display_name": "Python 3",
   "language": "python",
   "name": "python3"
  },
  "language_info": {
   "codemirror_mode": {
    "name": "ipython",
    "version": 3
   },
   "file_extension": ".py",
   "mimetype": "text/x-python",
   "name": "python",
   "nbconvert_exporter": "python",
   "pygments_lexer": "ipython3",
   "version": "3.12.1"
  }
 },
 "nbformat": 4,
 "nbformat_minor": 2
}
